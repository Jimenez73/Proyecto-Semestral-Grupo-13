{
 "cells": [
  {
   "cell_type": "markdown",
   "metadata": {},
   "source": [
    "# Prueba de concepto\n",
    "\n",
    "filters: min. maps = 58"
   ]
  },
  {
   "cell_type": "code",
   "execution_count": 46,
   "metadata": {},
   "outputs": [],
   "source": [
    "import numpy as np\n",
    "import pandas as pd\n",
    "from bs4 import BeautifulSoup as bs\n",
    "import cloudscraper"
   ]
  },
  {
   "cell_type": "code",
   "execution_count": 47,
   "metadata": {},
   "outputs": [],
   "source": [
    "# En vez de utilizar request creamos un instancia de un scraper que simula un navegador en Python\n",
    "# para evadir la verificación de cloudflare\n",
    "\n",
    "scraper = cloudscraper.create_scraper(\n",
    "    browser={\n",
    "        \"browser\": \"chrome\",\n",
    "        \"platform\": \"windows\",\n",
    "    },\n",
    ")"
   ]
  },
  {
   "cell_type": "markdown",
   "metadata": {},
   "source": [
    "# Top jugadores\n",
    "\n",
    "All matches, Last 12 months, Top 20, All maps, Both sides"
   ]
  },
  {
   "cell_type": "code",
   "execution_count": 52,
   "metadata": {},
   "outputs": [
    {
     "name": "stdout",
     "output_type": "stream",
     "text": [
      "The status code is 200\n"
     ]
    }
   ],
   "source": [
    "url = \"https://www.hltv.org/stats/players?startDate=2023-10-21&endDate=2024-10-21&rankingFilter=Top20\"\n",
    "response = scraper.get(url)\n",
    "\n",
    "print(f\"The status code is {response.status_code}\")"
   ]
  },
  {
   "cell_type": "code",
   "execution_count": 58,
   "metadata": {},
   "outputs": [],
   "source": [
    "soup = bs(response.text)\n",
    "tables = soup.find_all(class_=\"stats-table player-ratings-table\")\n",
    "\n",
    "df = pd.DataFrame(columns=[\"Player\", \"Teams\", \"Maps\", \"Rounds\", \"K-D Diff\", \"K/D\", \"Rating\"])\n",
    "\n",
    "for row in tables[0].find_all('tr')[1:]:\n",
    "    cols = row.find_all(\"td\")\n",
    "    cols = [col.text.strip() for col in cols]\n",
    "    \n",
    "    new_row = pd.DataFrame([cols], columns=df.columns)\n",
    "\n",
    "    df = pd.concat([df, new_row], ignore_index=True, axis=0)"
   ]
  },
  {
   "cell_type": "code",
   "execution_count": 61,
   "metadata": {},
   "outputs": [
    {
     "data": {
      "text/html": [
       "<div>\n",
       "<style scoped>\n",
       "    .dataframe tbody tr th:only-of-type {\n",
       "        vertical-align: middle;\n",
       "    }\n",
       "\n",
       "    .dataframe tbody tr th {\n",
       "        vertical-align: top;\n",
       "    }\n",
       "\n",
       "    .dataframe thead th {\n",
       "        text-align: right;\n",
       "    }\n",
       "</style>\n",
       "<table border=\"1\" class=\"dataframe\">\n",
       "  <thead>\n",
       "    <tr style=\"text-align: right;\">\n",
       "      <th></th>\n",
       "      <th>Player</th>\n",
       "      <th>Teams</th>\n",
       "      <th>Maps</th>\n",
       "      <th>Rounds</th>\n",
       "      <th>K-D Diff</th>\n",
       "      <th>K/D</th>\n",
       "      <th>Rating</th>\n",
       "    </tr>\n",
       "  </thead>\n",
       "  <tbody>\n",
       "    <tr>\n",
       "      <th>0</th>\n",
       "      <td>ZywOo</td>\n",
       "      <td></td>\n",
       "      <td>130</td>\n",
       "      <td>2873</td>\n",
       "      <td>+772</td>\n",
       "      <td>1.46</td>\n",
       "      <td>1.34</td>\n",
       "    </tr>\n",
       "    <tr>\n",
       "      <th>1</th>\n",
       "      <td>donk</td>\n",
       "      <td></td>\n",
       "      <td>135</td>\n",
       "      <td>2843</td>\n",
       "      <td>+623</td>\n",
       "      <td>1.32</td>\n",
       "      <td>1.32</td>\n",
       "    </tr>\n",
       "    <tr>\n",
       "      <th>2</th>\n",
       "      <td>m0NESY</td>\n",
       "      <td></td>\n",
       "      <td>139</td>\n",
       "      <td>2995</td>\n",
       "      <td>+695</td>\n",
       "      <td>1.39</td>\n",
       "      <td>1.28</td>\n",
       "    </tr>\n",
       "    <tr>\n",
       "      <th>3</th>\n",
       "      <td>XANTARES</td>\n",
       "      <td></td>\n",
       "      <td>130</td>\n",
       "      <td>2916</td>\n",
       "      <td>+240</td>\n",
       "      <td>1.12</td>\n",
       "      <td>1.17</td>\n",
       "    </tr>\n",
       "    <tr>\n",
       "      <th>4</th>\n",
       "      <td>EliGE</td>\n",
       "      <td></td>\n",
       "      <td>123</td>\n",
       "      <td>2728</td>\n",
       "      <td>+180</td>\n",
       "      <td>1.09</td>\n",
       "      <td>1.14</td>\n",
       "    </tr>\n",
       "  </tbody>\n",
       "</table>\n",
       "</div>"
      ],
      "text/plain": [
       "     Player Teams Maps Rounds K-D Diff   K/D Rating\n",
       "0     ZywOo        130   2873     +772  1.46   1.34\n",
       "1      donk        135   2843     +623  1.32   1.32\n",
       "2    m0NESY        139   2995     +695  1.39   1.28\n",
       "3  XANTARES        130   2916     +240  1.12   1.17\n",
       "4     EliGE        123   2728     +180  1.09   1.14"
      ]
     },
     "execution_count": 61,
     "metadata": {},
     "output_type": "execute_result"
    }
   ],
   "source": [
    "df.head()"
   ]
  },
  {
   "cell_type": "markdown",
   "metadata": {},
   "source": [
    "# Top equipos\n",
    "\n",
    "All matches, Last 12 months, Top 50, All maps, Both sides"
   ]
  },
  {
   "cell_type": "code",
   "execution_count": 62,
   "metadata": {},
   "outputs": [
    {
     "name": "stdout",
     "output_type": "stream",
     "text": [
      "The status code is 200\n"
     ]
    }
   ],
   "source": [
    "url = \"https://www.hltv.org/stats/teams?startDate=2023-10-21&endDate=2024-10-21&rankingFilter=Top50\"\n",
    "response = scraper.get(url)\n",
    "\n",
    "print(f\"The status code is {response.status_code}\")"
   ]
  },
  {
   "cell_type": "code",
   "execution_count": 63,
   "metadata": {},
   "outputs": [],
   "source": [
    "soup = bs(response.text)\n",
    "tables = soup.find_all(class_=\"stats-table player-ratings-table\")\n",
    "\n",
    "df = pd.DataFrame(columns=[\"Team\", \"Maps\", \"K-D Diff\", \"K/D\", \"Rating\"])\n",
    "\n",
    "for row in tables[0].find_all('tr')[1:]:\n",
    "    cols = row.find_all(\"td\")\n",
    "    cols = [col.text.strip() for col in cols]\n",
    "    \n",
    "    new_row = pd.DataFrame([cols], columns=df.columns)\n",
    "\n",
    "    df = pd.concat([df, new_row], ignore_index=True, axis=0)"
   ]
  },
  {
   "cell_type": "code",
   "execution_count": 65,
   "metadata": {},
   "outputs": [
    {
     "data": {
      "text/html": [
       "<div>\n",
       "<style scoped>\n",
       "    .dataframe tbody tr th:only-of-type {\n",
       "        vertical-align: middle;\n",
       "    }\n",
       "\n",
       "    .dataframe tbody tr th {\n",
       "        vertical-align: top;\n",
       "    }\n",
       "\n",
       "    .dataframe thead th {\n",
       "        text-align: right;\n",
       "    }\n",
       "</style>\n",
       "<table border=\"1\" class=\"dataframe\">\n",
       "  <thead>\n",
       "    <tr style=\"text-align: right;\">\n",
       "      <th></th>\n",
       "      <th>Team</th>\n",
       "      <th>Maps</th>\n",
       "      <th>K-D Diff</th>\n",
       "      <th>K/D</th>\n",
       "      <th>Rating</th>\n",
       "    </tr>\n",
       "  </thead>\n",
       "  <tbody>\n",
       "    <tr>\n",
       "      <th>0</th>\n",
       "      <td>Vitality</td>\n",
       "      <td>140</td>\n",
       "      <td>+1025</td>\n",
       "      <td>1.11</td>\n",
       "      <td>1.12</td>\n",
       "    </tr>\n",
       "    <tr>\n",
       "      <th>1</th>\n",
       "      <td>Spirit</td>\n",
       "      <td>169</td>\n",
       "      <td>+1270</td>\n",
       "      <td>1.11</td>\n",
       "      <td>1.10</td>\n",
       "    </tr>\n",
       "    <tr>\n",
       "      <th>2</th>\n",
       "      <td>Natus Vincere</td>\n",
       "      <td>168</td>\n",
       "      <td>+805</td>\n",
       "      <td>1.07</td>\n",
       "      <td>1.07</td>\n",
       "    </tr>\n",
       "    <tr>\n",
       "      <th>3</th>\n",
       "      <td>MOUZ</td>\n",
       "      <td>164</td>\n",
       "      <td>+637</td>\n",
       "      <td>1.05</td>\n",
       "      <td>1.07</td>\n",
       "    </tr>\n",
       "    <tr>\n",
       "      <th>4</th>\n",
       "      <td>The MongolZ</td>\n",
       "      <td>153</td>\n",
       "      <td>+534</td>\n",
       "      <td>1.05</td>\n",
       "      <td>1.07</td>\n",
       "    </tr>\n",
       "  </tbody>\n",
       "</table>\n",
       "</div>"
      ],
      "text/plain": [
       "            Team Maps K-D Diff   K/D Rating\n",
       "0       Vitality  140    +1025  1.11   1.12\n",
       "1         Spirit  169    +1270  1.11   1.10\n",
       "2  Natus Vincere  168     +805  1.07   1.07\n",
       "3           MOUZ  164     +637  1.05   1.07\n",
       "4    The MongolZ  153     +534  1.05   1.07"
      ]
     },
     "execution_count": 65,
     "metadata": {},
     "output_type": "execute_result"
    }
   ],
   "source": [
    "df.head()"
   ]
  },
  {
   "cell_type": "markdown",
   "metadata": {},
   "source": [
    "# Rondas de pistolas\n",
    "\n",
    "All matches, Last 12 months, Top 50, All maps, Both sides"
   ]
  },
  {
   "cell_type": "code",
   "execution_count": 66,
   "metadata": {},
   "outputs": [
    {
     "name": "stdout",
     "output_type": "stream",
     "text": [
      "The status code is 200\n"
     ]
    }
   ],
   "source": [
    "url = \"https://www.hltv.org/stats/teams/pistols?startDate=2023-10-21&endDate=2024-10-21&rankingFilter=Top50\"\n",
    "response = scraper.get(url)\n",
    "\n",
    "print(f\"The status code is {response.status_code}\")"
   ]
  },
  {
   "cell_type": "code",
   "execution_count": 68,
   "metadata": {},
   "outputs": [],
   "source": [
    "soup = bs(response.text)\n",
    "tables = soup.find_all(class_=\"stats-table player-ratings-table ftu\")\n",
    "\n",
    "df = pd.DataFrame(columns=[\"Team\", \"Maps\", \"Won - Lost\", \"Pistol win %\", \"Round 2 conv\", \"Round 2 break\"])\n",
    "\n",
    "for row in tables[0].find_all('tr')[1:]:\n",
    "    cols = row.find_all(\"td\")\n",
    "    cols = [col.text.strip() for col in cols]\n",
    "    \n",
    "    new_row = pd.DataFrame([cols], columns=df.columns)\n",
    "\n",
    "    df = pd.concat([df, new_row], ignore_index=True, axis=0)"
   ]
  },
  {
   "cell_type": "code",
   "execution_count": 70,
   "metadata": {},
   "outputs": [
    {
     "data": {
      "text/html": [
       "<div>\n",
       "<style scoped>\n",
       "    .dataframe tbody tr th:only-of-type {\n",
       "        vertical-align: middle;\n",
       "    }\n",
       "\n",
       "    .dataframe tbody tr th {\n",
       "        vertical-align: top;\n",
       "    }\n",
       "\n",
       "    .dataframe thead th {\n",
       "        text-align: right;\n",
       "    }\n",
       "</style>\n",
       "<table border=\"1\" class=\"dataframe\">\n",
       "  <thead>\n",
       "    <tr style=\"text-align: right;\">\n",
       "      <th></th>\n",
       "      <th>Team</th>\n",
       "      <th>Maps</th>\n",
       "      <th>Won - Lost</th>\n",
       "      <th>Pistol win %</th>\n",
       "      <th>Round 2 conv</th>\n",
       "      <th>Round 2 break</th>\n",
       "    </tr>\n",
       "  </thead>\n",
       "  <tbody>\n",
       "    <tr>\n",
       "      <th>0</th>\n",
       "      <td>Spirit</td>\n",
       "      <td>169</td>\n",
       "      <td>185 - 153</td>\n",
       "      <td>54.7%</td>\n",
       "      <td>90.7%</td>\n",
       "      <td>11.1%</td>\n",
       "    </tr>\n",
       "    <tr>\n",
       "      <th>1</th>\n",
       "      <td>Vitality</td>\n",
       "      <td>140</td>\n",
       "      <td>152 - 128</td>\n",
       "      <td>54.3%</td>\n",
       "      <td>85.3%</td>\n",
       "      <td>31.2%</td>\n",
       "    </tr>\n",
       "    <tr>\n",
       "      <th>2</th>\n",
       "      <td>MOUZ</td>\n",
       "      <td>164</td>\n",
       "      <td>162 - 166</td>\n",
       "      <td>49.4%</td>\n",
       "      <td>90.1%</td>\n",
       "      <td>10.8%</td>\n",
       "    </tr>\n",
       "    <tr>\n",
       "      <th>3</th>\n",
       "      <td>The MongolZ</td>\n",
       "      <td>153</td>\n",
       "      <td>174 - 132</td>\n",
       "      <td>56.9%</td>\n",
       "      <td>83.7%</td>\n",
       "      <td>22.0%</td>\n",
       "    </tr>\n",
       "    <tr>\n",
       "      <th>4</th>\n",
       "      <td>Natus Vincere</td>\n",
       "      <td>168</td>\n",
       "      <td>189 - 147</td>\n",
       "      <td>56.2%</td>\n",
       "      <td>85.2%</td>\n",
       "      <td>12.2%</td>\n",
       "    </tr>\n",
       "  </tbody>\n",
       "</table>\n",
       "</div>"
      ],
      "text/plain": [
       "            Team Maps Won - Lost Pistol win % Round 2 conv Round 2 break\n",
       "0         Spirit  169  185 - 153        54.7%        90.7%         11.1%\n",
       "1       Vitality  140  152 - 128        54.3%        85.3%         31.2%\n",
       "2           MOUZ  164  162 - 166        49.4%        90.1%         10.8%\n",
       "3    The MongolZ  153  174 - 132        56.9%        83.7%         22.0%\n",
       "4  Natus Vincere  168  189 - 147        56.2%        85.2%         12.2%"
      ]
     },
     "execution_count": 70,
     "metadata": {},
     "output_type": "execute_result"
    }
   ],
   "source": [
    "df.head()"
   ]
  },
  {
   "cell_type": "markdown",
   "metadata": {},
   "source": [
    "# FTU\n",
    "\n",
    "(Firepower, Teamwork, Utility)\n",
    "\n",
    "All matches, Last 12 months, Top 50, All maps, Both sides"
   ]
  },
  {
   "cell_type": "code",
   "execution_count": 82,
   "metadata": {},
   "outputs": [
    {
     "name": "stdout",
     "output_type": "stream",
     "text": [
      "The status code is 200\n"
     ]
    }
   ],
   "source": [
    "url = \"https://www.hltv.org/stats/teams/ftu?startDate=2023-10-21&endDate=2024-10-21&rankingFilter=Top50\"\n",
    "response = scraper.get(url)\n",
    "\n",
    "print(f\"The status code is {response.status_code}\")"
   ]
  },
  {
   "cell_type": "code",
   "execution_count": 102,
   "metadata": {},
   "outputs": [],
   "source": [
    "soup = bs(response.text)\n",
    "tables = soup.find_all(class_=\"stats-table player-ratings-table ftu gtSmartphone-only\")\n",
    "\n",
    "df = pd.DataFrame(columns=[\"Team\", \"Maps\", \"RW%\", \"OpK\", \"MultiK\", \"5v4%\", \"4v5%\", \"Traded%\", \"ADR\", \"FA\"])\n",
    "\n",
    "for row in tables[0].find_all('tr')[2:]:\n",
    "    cols = row.find_all(\"td\")\n",
    "    cols = [col.text.strip() for col in cols]\n",
    "    \n",
    "    new_row = pd.DataFrame([cols], columns=df.columns)\n",
    "\n",
    "    df = pd.concat([df, new_row], ignore_index=True, axis=0)"
   ]
  },
  {
   "cell_type": "code",
   "execution_count": 107,
   "metadata": {},
   "outputs": [
    {
     "data": {
      "text/html": [
       "<div>\n",
       "<style scoped>\n",
       "    .dataframe tbody tr th:only-of-type {\n",
       "        vertical-align: middle;\n",
       "    }\n",
       "\n",
       "    .dataframe tbody tr th {\n",
       "        vertical-align: top;\n",
       "    }\n",
       "\n",
       "    .dataframe thead tr th {\n",
       "        text-align: left;\n",
       "    }\n",
       "</style>\n",
       "<table border=\"1\" class=\"dataframe\">\n",
       "  <thead>\n",
       "    <tr>\n",
       "      <th></th>\n",
       "      <th colspan=\"3\" halign=\"left\"></th>\n",
       "      <th colspan=\"2\" halign=\"left\">Firepower</th>\n",
       "      <th colspan=\"3\" halign=\"left\">Teamwork</th>\n",
       "      <th colspan=\"2\" halign=\"left\">Utility</th>\n",
       "    </tr>\n",
       "    <tr>\n",
       "      <th></th>\n",
       "      <th>Team</th>\n",
       "      <th>Maps</th>\n",
       "      <th>RW%</th>\n",
       "      <th>OpK</th>\n",
       "      <th>MultiK</th>\n",
       "      <th>5v4%</th>\n",
       "      <th>4v5%</th>\n",
       "      <th>Traded%</th>\n",
       "      <th>ADR</th>\n",
       "      <th>FA</th>\n",
       "    </tr>\n",
       "  </thead>\n",
       "  <tbody>\n",
       "    <tr>\n",
       "      <th>0</th>\n",
       "      <td>Spirit</td>\n",
       "      <td>169</td>\n",
       "      <td>55.9%</td>\n",
       "      <td>53.4%</td>\n",
       "      <td>0.85</td>\n",
       "      <td>77.1%</td>\n",
       "      <td>31.7%</td>\n",
       "      <td>21.4%</td>\n",
       "      <td>24.6</td>\n",
       "      <td>0.19</td>\n",
       "    </tr>\n",
       "    <tr>\n",
       "      <th>1</th>\n",
       "      <td>Vitality</td>\n",
       "      <td>140</td>\n",
       "      <td>55.8%</td>\n",
       "      <td>53.8%</td>\n",
       "      <td>0.84</td>\n",
       "      <td>75.4%</td>\n",
       "      <td>33.0%</td>\n",
       "      <td>22.4%</td>\n",
       "      <td>25.5</td>\n",
       "      <td>0.23</td>\n",
       "    </tr>\n",
       "    <tr>\n",
       "      <th>2</th>\n",
       "      <td>MOUZ</td>\n",
       "      <td>164</td>\n",
       "      <td>53.3%</td>\n",
       "      <td>50.0%</td>\n",
       "      <td>0.84</td>\n",
       "      <td>75.8%</td>\n",
       "      <td>30.7%</td>\n",
       "      <td>20.4%</td>\n",
       "      <td>22.4</td>\n",
       "      <td>0.24</td>\n",
       "    </tr>\n",
       "    <tr>\n",
       "      <th>3</th>\n",
       "      <td>The MongolZ</td>\n",
       "      <td>153</td>\n",
       "      <td>53.5%</td>\n",
       "      <td>49.7%</td>\n",
       "      <td>0.83</td>\n",
       "      <td>76.4%</td>\n",
       "      <td>30.9%</td>\n",
       "      <td>19.5%</td>\n",
       "      <td>24.5</td>\n",
       "      <td>0.19</td>\n",
       "    </tr>\n",
       "    <tr>\n",
       "      <th>4</th>\n",
       "      <td>Natus Vincere</td>\n",
       "      <td>168</td>\n",
       "      <td>53.6%</td>\n",
       "      <td>53.3%</td>\n",
       "      <td>0.81</td>\n",
       "      <td>74.8%</td>\n",
       "      <td>29.6%</td>\n",
       "      <td>20.9%</td>\n",
       "      <td>21.5</td>\n",
       "      <td>0.24</td>\n",
       "    </tr>\n",
       "  </tbody>\n",
       "</table>\n",
       "</div>"
      ],
      "text/plain": [
       "                             Firepower        Teamwork                Utility  \\\n",
       "            Team Maps    RW%       OpK MultiK     5v4%   4v5% Traded%     ADR   \n",
       "0         Spirit  169  55.9%     53.4%   0.85    77.1%  31.7%   21.4%    24.6   \n",
       "1       Vitality  140  55.8%     53.8%   0.84    75.4%  33.0%   22.4%    25.5   \n",
       "2           MOUZ  164  53.3%     50.0%   0.84    75.8%  30.7%   20.4%    22.4   \n",
       "3    The MongolZ  153  53.5%     49.7%   0.83    76.4%  30.9%   19.5%    24.5   \n",
       "4  Natus Vincere  168  53.6%     53.3%   0.81    74.8%  29.6%   20.9%    21.5   \n",
       "\n",
       "         \n",
       "     FA  \n",
       "0  0.19  \n",
       "1  0.23  \n",
       "2  0.24  \n",
       "3  0.19  \n",
       "4  0.24  "
      ]
     },
     "execution_count": 107,
     "metadata": {},
     "output_type": "execute_result"
    }
   ],
   "source": [
    "new_columns = pd.MultiIndex.from_tuples(\n",
    "    [\n",
    "        (\"\", \"Team\"), \n",
    "        (\"\", \"Maps\"),\n",
    "        (\"\", \"RW%\"),\n",
    "        (\"Firepower\", \"OpK\"),\n",
    "        (\"Firepower\", \"MultiK\"),\n",
    "        ('Teamwork', \"5v4%\"),\n",
    "        ('Teamwork', \"4v5%\"),\n",
    "        ('Teamwork', \"Traded%\"),\n",
    "        ('Utility', \"ADR\"),\n",
    "        ('Utility', \"FA\"),\n",
    "    ]\n",
    ")\n",
    "\n",
    "df.columns = new_columns\n",
    "\n",
    "df.head()"
   ]
  }
 ],
 "metadata": {
  "kernelspec": {
   "display_name": ".venv",
   "language": "python",
   "name": "python3"
  },
  "language_info": {
   "codemirror_mode": {
    "name": "ipython",
    "version": 3
   },
   "file_extension": ".py",
   "mimetype": "text/x-python",
   "name": "python",
   "nbconvert_exporter": "python",
   "pygments_lexer": "ipython3",
   "version": "3.12.6"
  }
 },
 "nbformat": 4,
 "nbformat_minor": 2
}
